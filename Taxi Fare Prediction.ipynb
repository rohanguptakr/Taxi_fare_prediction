{
 "cells": [
  {
   "cell_type": "code",
   "execution_count": 199,
   "id": "68f0496b",
   "metadata": {},
   "outputs": [],
   "source": [
    "#Basic and most important libraries\n",
    "import pandas as pd , numpy as np\n",
    "from sklearn.utils import resample\n",
    "from sklearn.preprocessing import StandardScaler , MinMaxScaler\n",
    "import matplotlib.pyplot as plt\n",
    "import seaborn as sns\n",
    "\n",
    "#Data processing functions\n",
    "from sklearn.model_selection import train_test_split\n",
    "\n",
    "import warnings\n",
    "warnings.filterwarnings(\"ignore\")"
   ]
  },
  {
   "cell_type": "code",
   "execution_count": 200,
   "id": "60a92efd",
   "metadata": {},
   "outputs": [],
   "source": [
    "import geopy as gp"
   ]
  },
  {
   "cell_type": "code",
   "execution_count": 201,
   "id": "6b74c783",
   "metadata": {},
   "outputs": [],
   "source": [
    "from geopy.distance import geodesic"
   ]
  },
  {
   "cell_type": "code",
   "execution_count": 202,
   "id": "b0570f57",
   "metadata": {},
   "outputs": [],
   "source": [
    "df = pd.read_csv(\"https://raw.githubusercontent.com/Premalatha-success/Datasets/main/TaxiFare.csv\")"
   ]
  },
  {
   "cell_type": "code",
   "execution_count": 203,
   "id": "b7957c39",
   "metadata": {},
   "outputs": [
    {
     "name": "stdout",
     "output_type": "stream",
     "text": [
      "<class 'pandas.core.frame.DataFrame'>\n",
      "RangeIndex: 50000 entries, 0 to 49999\n",
      "Data columns (total 8 columns):\n",
      " #   Column                Non-Null Count  Dtype  \n",
      "---  ------                --------------  -----  \n",
      " 0   unique_id             50000 non-null  object \n",
      " 1   amount                50000 non-null  float64\n",
      " 2   date_time_of_pickup   50000 non-null  object \n",
      " 3   longitude_of_pickup   50000 non-null  float64\n",
      " 4   latitude_of_pickup    50000 non-null  float64\n",
      " 5   longitude_of_dropoff  50000 non-null  float64\n",
      " 6   latitude_of_dropoff   50000 non-null  float64\n",
      " 7   no_of_passenger       50000 non-null  int64  \n",
      "dtypes: float64(5), int64(1), object(2)\n",
      "memory usage: 3.1+ MB\n"
     ]
    }
   ],
   "source": [
    "df.info()"
   ]
  },
  {
   "cell_type": "code",
   "execution_count": 204,
   "id": "d7588e94",
   "metadata": {},
   "outputs": [
    {
     "data": {
      "text/html": [
       "<div>\n",
       "<style scoped>\n",
       "    .dataframe tbody tr th:only-of-type {\n",
       "        vertical-align: middle;\n",
       "    }\n",
       "\n",
       "    .dataframe tbody tr th {\n",
       "        vertical-align: top;\n",
       "    }\n",
       "\n",
       "    .dataframe thead th {\n",
       "        text-align: right;\n",
       "    }\n",
       "</style>\n",
       "<table border=\"1\" class=\"dataframe\">\n",
       "  <thead>\n",
       "    <tr style=\"text-align: right;\">\n",
       "      <th></th>\n",
       "      <th>unique_id</th>\n",
       "      <th>amount</th>\n",
       "      <th>date_time_of_pickup</th>\n",
       "      <th>longitude_of_pickup</th>\n",
       "      <th>latitude_of_pickup</th>\n",
       "      <th>longitude_of_dropoff</th>\n",
       "      <th>latitude_of_dropoff</th>\n",
       "      <th>no_of_passenger</th>\n",
       "    </tr>\n",
       "  </thead>\n",
       "  <tbody>\n",
       "    <tr>\n",
       "      <th>0</th>\n",
       "      <td>26:21.0</td>\n",
       "      <td>4.5</td>\n",
       "      <td>2009-06-15 17:26:21 UTC</td>\n",
       "      <td>-73.844311</td>\n",
       "      <td>40.721319</td>\n",
       "      <td>-73.841610</td>\n",
       "      <td>40.712278</td>\n",
       "      <td>1</td>\n",
       "    </tr>\n",
       "    <tr>\n",
       "      <th>1</th>\n",
       "      <td>52:16.0</td>\n",
       "      <td>16.9</td>\n",
       "      <td>2010-01-05 16:52:16 UTC</td>\n",
       "      <td>-74.016048</td>\n",
       "      <td>40.711303</td>\n",
       "      <td>-73.979268</td>\n",
       "      <td>40.782004</td>\n",
       "      <td>1</td>\n",
       "    </tr>\n",
       "    <tr>\n",
       "      <th>2</th>\n",
       "      <td>35:00.0</td>\n",
       "      <td>5.7</td>\n",
       "      <td>2011-08-18 00:35:00 UTC</td>\n",
       "      <td>-73.982738</td>\n",
       "      <td>40.761270</td>\n",
       "      <td>-73.991242</td>\n",
       "      <td>40.750562</td>\n",
       "      <td>2</td>\n",
       "    </tr>\n",
       "    <tr>\n",
       "      <th>3</th>\n",
       "      <td>30:42.0</td>\n",
       "      <td>7.7</td>\n",
       "      <td>2012-04-21 04:30:42 UTC</td>\n",
       "      <td>-73.987130</td>\n",
       "      <td>40.733143</td>\n",
       "      <td>-73.991567</td>\n",
       "      <td>40.758092</td>\n",
       "      <td>1</td>\n",
       "    </tr>\n",
       "    <tr>\n",
       "      <th>4</th>\n",
       "      <td>51:00.0</td>\n",
       "      <td>5.3</td>\n",
       "      <td>2010-03-09 07:51:00 UTC</td>\n",
       "      <td>-73.968095</td>\n",
       "      <td>40.768008</td>\n",
       "      <td>-73.956655</td>\n",
       "      <td>40.783762</td>\n",
       "      <td>1</td>\n",
       "    </tr>\n",
       "  </tbody>\n",
       "</table>\n",
       "</div>"
      ],
      "text/plain": [
       "  unique_id  amount      date_time_of_pickup  longitude_of_pickup  \\\n",
       "0   26:21.0     4.5  2009-06-15 17:26:21 UTC           -73.844311   \n",
       "1   52:16.0    16.9  2010-01-05 16:52:16 UTC           -74.016048   \n",
       "2   35:00.0     5.7  2011-08-18 00:35:00 UTC           -73.982738   \n",
       "3   30:42.0     7.7  2012-04-21 04:30:42 UTC           -73.987130   \n",
       "4   51:00.0     5.3  2010-03-09 07:51:00 UTC           -73.968095   \n",
       "\n",
       "   latitude_of_pickup  longitude_of_dropoff  latitude_of_dropoff  \\\n",
       "0           40.721319            -73.841610            40.712278   \n",
       "1           40.711303            -73.979268            40.782004   \n",
       "2           40.761270            -73.991242            40.750562   \n",
       "3           40.733143            -73.991567            40.758092   \n",
       "4           40.768008            -73.956655            40.783762   \n",
       "\n",
       "   no_of_passenger  \n",
       "0                1  \n",
       "1                1  \n",
       "2                2  \n",
       "3                1  \n",
       "4                1  "
      ]
     },
     "execution_count": 204,
     "metadata": {},
     "output_type": "execute_result"
    }
   ],
   "source": [
    "df.head()"
   ]
  },
  {
   "cell_type": "code",
   "execution_count": 205,
   "id": "c3e9a4c0",
   "metadata": {},
   "outputs": [
    {
     "data": {
      "text/plain": [
       "(50000, 8)"
      ]
     },
     "execution_count": 205,
     "metadata": {},
     "output_type": "execute_result"
    }
   ],
   "source": [
    "df.shape"
   ]
  },
  {
   "cell_type": "code",
   "execution_count": 206,
   "id": "dce9cef1",
   "metadata": {},
   "outputs": [
    {
     "name": "stdout",
     "output_type": "stream",
     "text": [
      "401.083332 2 5686\n",
      "3823 1\n"
     ]
    }
   ],
   "source": [
    "not_possible=0\n",
    "zeroes=0\n",
    "\n",
    "for i in range(50000):\n",
    "    if df[\"longitude_of_pickup\"][i]==0:\n",
    "        zeroes+=1\n",
    "    if df[\"latitude_of_pickup\"][i]==0:\n",
    "        zeroes+=1\n",
    "    if df[\"longitude_of_dropoff\"][i]==0:\n",
    "        zeroes+=1\n",
    "    if df[\"latitude_of_dropoff\"][i]==0:\n",
    "        zeroes+=1\n",
    "    if df[\"longitude_of_pickup\"][i]>90 or df[\"longitude_of_pickup\"][i]<-90:\n",
    "        print(df[\"longitude_of_pickup\"][i],\"1\",i)\n",
    "        not_possible+=1\n",
    "    if df[\"latitude_of_pickup\"][i]>90 or df[\"latitude_of_pickup\"][i]<-90:\n",
    "        print(df[\"latitude_of_pickup\"][i],\"2\",i)\n",
    "        not_possible+=1\n",
    "    if df[\"longitude_of_dropoff\"][i]>90 or df[\"longitude_of_dropoff\"][i]<-90:\n",
    "        print(df[\"longitude_of_dropoff\"][i],\"3\",i)\n",
    "        not_possible+=1\n",
    "    if df[\"latitude_of_dropoff\"][i]>90 or df[\"latitude_of_dropoff\"][i]<-90:\n",
    "        print(df[\"longitude_of_dropoff\"][i],\"4\",i)\n",
    "        not_possible+=1\n",
    "\n",
    "print(zeroes,not_possible)    "
   ]
  },
  {
   "cell_type": "code",
   "execution_count": 207,
   "id": "971729a5",
   "metadata": {},
   "outputs": [],
   "source": [
    "df = df.replace({0: np.nan})"
   ]
  },
  {
   "cell_type": "code",
   "execution_count": 208,
   "id": "2695f766",
   "metadata": {},
   "outputs": [],
   "source": [
    "df.dropna(axis=0,inplace=True)"
   ]
  },
  {
   "cell_type": "code",
   "execution_count": 209,
   "id": "96f1c71e",
   "metadata": {},
   "outputs": [],
   "source": [
    "df.drop(5686,axis=0,inplace=True)"
   ]
  },
  {
   "cell_type": "code",
   "execution_count": 210,
   "id": "04ce048e",
   "metadata": {},
   "outputs": [
    {
     "name": "stdout",
     "output_type": "stream",
     "text": [
      "<class 'pandas.core.frame.DataFrame'>\n",
      "Int64Index: 48837 entries, 0 to 49999\n",
      "Data columns (total 8 columns):\n",
      " #   Column                Non-Null Count  Dtype  \n",
      "---  ------                --------------  -----  \n",
      " 0   unique_id             48837 non-null  object \n",
      " 1   amount                48837 non-null  float64\n",
      " 2   date_time_of_pickup   48837 non-null  object \n",
      " 3   longitude_of_pickup   48837 non-null  float64\n",
      " 4   latitude_of_pickup    48837 non-null  float64\n",
      " 5   longitude_of_dropoff  48837 non-null  float64\n",
      " 6   latitude_of_dropoff   48837 non-null  float64\n",
      " 7   no_of_passenger       48837 non-null  float64\n",
      "dtypes: float64(6), object(2)\n",
      "memory usage: 3.4+ MB\n"
     ]
    }
   ],
   "source": [
    "df.info()"
   ]
  },
  {
   "cell_type": "code",
   "execution_count": 211,
   "id": "16cbc365",
   "metadata": {},
   "outputs": [],
   "source": [
    "df['pickup'] = [', '.join(str(x) for x in y) for y in map(tuple, df[['latitude_of_pickup', 'longitude_of_pickup']].values)]"
   ]
  },
  {
   "cell_type": "code",
   "execution_count": 212,
   "id": "119ab00f",
   "metadata": {},
   "outputs": [],
   "source": [
    "df['dropoff'] = [', '.join(str(x) for x in y) for y in map(tuple, df[['latitude_of_dropoff', 'longitude_of_dropoff']].values)]"
   ]
  },
  {
   "cell_type": "code",
   "execution_count": 213,
   "id": "51934f12",
   "metadata": {},
   "outputs": [
    {
     "name": "stdout",
     "output_type": "stream",
     "text": [
      "<class 'pandas.core.frame.DataFrame'>\n",
      "Int64Index: 48837 entries, 0 to 49999\n",
      "Data columns (total 10 columns):\n",
      " #   Column                Non-Null Count  Dtype  \n",
      "---  ------                --------------  -----  \n",
      " 0   unique_id             48837 non-null  object \n",
      " 1   amount                48837 non-null  float64\n",
      " 2   date_time_of_pickup   48837 non-null  object \n",
      " 3   longitude_of_pickup   48837 non-null  float64\n",
      " 4   latitude_of_pickup    48837 non-null  float64\n",
      " 5   longitude_of_dropoff  48837 non-null  float64\n",
      " 6   latitude_of_dropoff   48837 non-null  float64\n",
      " 7   no_of_passenger       48837 non-null  float64\n",
      " 8   pickup                48837 non-null  object \n",
      " 9   dropoff               48837 non-null  object \n",
      "dtypes: float64(6), object(4)\n",
      "memory usage: 4.1+ MB\n"
     ]
    }
   ],
   "source": [
    "df.info()"
   ]
  },
  {
   "cell_type": "code",
   "execution_count": 214,
   "id": "f916a310",
   "metadata": {},
   "outputs": [],
   "source": [
    "df.drop(columns=[\"longitude_of_pickup\",\"latitude_of_pickup\",\"latitude_of_dropoff\",\"longitude_of_dropoff\",\"unique_id\",\"date_time_of_pickup\"],inplace=True)"
   ]
  },
  {
   "cell_type": "code",
   "execution_count": 215,
   "id": "28b25f38",
   "metadata": {},
   "outputs": [
    {
     "name": "stdout",
     "output_type": "stream",
     "text": [
      "<class 'pandas.core.frame.DataFrame'>\n",
      "Int64Index: 48837 entries, 0 to 49999\n",
      "Data columns (total 4 columns):\n",
      " #   Column           Non-Null Count  Dtype  \n",
      "---  ------           --------------  -----  \n",
      " 0   amount           48837 non-null  float64\n",
      " 1   no_of_passenger  48837 non-null  float64\n",
      " 2   pickup           48837 non-null  object \n",
      " 3   dropoff          48837 non-null  object \n",
      "dtypes: float64(2), object(2)\n",
      "memory usage: 1.9+ MB\n"
     ]
    }
   ],
   "source": [
    "df.info()"
   ]
  },
  {
   "cell_type": "code",
   "execution_count": 216,
   "id": "5cfdddfd",
   "metadata": {},
   "outputs": [
    {
     "data": {
      "text/html": [
       "<div>\n",
       "<style scoped>\n",
       "    .dataframe tbody tr th:only-of-type {\n",
       "        vertical-align: middle;\n",
       "    }\n",
       "\n",
       "    .dataframe tbody tr th {\n",
       "        vertical-align: top;\n",
       "    }\n",
       "\n",
       "    .dataframe thead th {\n",
       "        text-align: right;\n",
       "    }\n",
       "</style>\n",
       "<table border=\"1\" class=\"dataframe\">\n",
       "  <thead>\n",
       "    <tr style=\"text-align: right;\">\n",
       "      <th></th>\n",
       "      <th>amount</th>\n",
       "      <th>no_of_passenger</th>\n",
       "      <th>pickup</th>\n",
       "      <th>dropoff</th>\n",
       "    </tr>\n",
       "  </thead>\n",
       "  <tbody>\n",
       "    <tr>\n",
       "      <th>0</th>\n",
       "      <td>4.5</td>\n",
       "      <td>1.0</td>\n",
       "      <td>40.721319, -73.844311</td>\n",
       "      <td>40.712278, -73.84161</td>\n",
       "    </tr>\n",
       "    <tr>\n",
       "      <th>1</th>\n",
       "      <td>16.9</td>\n",
       "      <td>1.0</td>\n",
       "      <td>40.711303, -74.016048</td>\n",
       "      <td>40.782004, -73.979268</td>\n",
       "    </tr>\n",
       "    <tr>\n",
       "      <th>2</th>\n",
       "      <td>5.7</td>\n",
       "      <td>2.0</td>\n",
       "      <td>40.76127, -73.982738</td>\n",
       "      <td>40.750562, -73.991242</td>\n",
       "    </tr>\n",
       "    <tr>\n",
       "      <th>3</th>\n",
       "      <td>7.7</td>\n",
       "      <td>1.0</td>\n",
       "      <td>40.733143, -73.98713</td>\n",
       "      <td>40.758092, -73.991567</td>\n",
       "    </tr>\n",
       "    <tr>\n",
       "      <th>4</th>\n",
       "      <td>5.3</td>\n",
       "      <td>1.0</td>\n",
       "      <td>40.768008, -73.968095</td>\n",
       "      <td>40.783762, -73.956655</td>\n",
       "    </tr>\n",
       "  </tbody>\n",
       "</table>\n",
       "</div>"
      ],
      "text/plain": [
       "   amount  no_of_passenger                 pickup                dropoff\n",
       "0     4.5              1.0  40.721319, -73.844311   40.712278, -73.84161\n",
       "1    16.9              1.0  40.711303, -74.016048  40.782004, -73.979268\n",
       "2     5.7              2.0   40.76127, -73.982738  40.750562, -73.991242\n",
       "3     7.7              1.0   40.733143, -73.98713  40.758092, -73.991567\n",
       "4     5.3              1.0  40.768008, -73.968095  40.783762, -73.956655"
      ]
     },
     "execution_count": 216,
     "metadata": {},
     "output_type": "execute_result"
    }
   ],
   "source": [
    "df.head()"
   ]
  },
  {
   "cell_type": "code",
   "execution_count": 217,
   "id": "fd1f9eaf",
   "metadata": {},
   "outputs": [
    {
     "data": {
      "text/plain": [
       "amount             0\n",
       "no_of_passenger    0\n",
       "pickup             0\n",
       "dropoff            0\n",
       "dtype: int64"
      ]
     },
     "execution_count": 217,
     "metadata": {},
     "output_type": "execute_result"
    }
   ],
   "source": [
    "df.isnull().sum()"
   ]
  },
  {
   "cell_type": "code",
   "execution_count": 218,
   "id": "4e45df3b",
   "metadata": {},
   "outputs": [
    {
     "data": {
      "text/plain": [
       "(48837, 4)"
      ]
     },
     "execution_count": 218,
     "metadata": {},
     "output_type": "execute_result"
    }
   ],
   "source": [
    "df.shape"
   ]
  },
  {
   "cell_type": "code",
   "execution_count": 219,
   "id": "25853dfa",
   "metadata": {},
   "outputs": [
    {
     "data": {
      "text/html": [
       "<div>\n",
       "<style scoped>\n",
       "    .dataframe tbody tr th:only-of-type {\n",
       "        vertical-align: middle;\n",
       "    }\n",
       "\n",
       "    .dataframe tbody tr th {\n",
       "        vertical-align: top;\n",
       "    }\n",
       "\n",
       "    .dataframe thead th {\n",
       "        text-align: right;\n",
       "    }\n",
       "</style>\n",
       "<table border=\"1\" class=\"dataframe\">\n",
       "  <thead>\n",
       "    <tr style=\"text-align: right;\">\n",
       "      <th></th>\n",
       "      <th>amount</th>\n",
       "      <th>no_of_passenger</th>\n",
       "      <th>pickup</th>\n",
       "      <th>dropoff</th>\n",
       "    </tr>\n",
       "  </thead>\n",
       "  <tbody>\n",
       "    <tr>\n",
       "      <th>0</th>\n",
       "      <td>4.5</td>\n",
       "      <td>1.0</td>\n",
       "      <td>40.721319, -73.844311</td>\n",
       "      <td>40.712278, -73.84161</td>\n",
       "    </tr>\n",
       "    <tr>\n",
       "      <th>1</th>\n",
       "      <td>16.9</td>\n",
       "      <td>1.0</td>\n",
       "      <td>40.711303, -74.016048</td>\n",
       "      <td>40.782004, -73.979268</td>\n",
       "    </tr>\n",
       "    <tr>\n",
       "      <th>2</th>\n",
       "      <td>5.7</td>\n",
       "      <td>2.0</td>\n",
       "      <td>40.76127, -73.982738</td>\n",
       "      <td>40.750562, -73.991242</td>\n",
       "    </tr>\n",
       "    <tr>\n",
       "      <th>3</th>\n",
       "      <td>7.7</td>\n",
       "      <td>1.0</td>\n",
       "      <td>40.733143, -73.98713</td>\n",
       "      <td>40.758092, -73.991567</td>\n",
       "    </tr>\n",
       "    <tr>\n",
       "      <th>4</th>\n",
       "      <td>5.3</td>\n",
       "      <td>1.0</td>\n",
       "      <td>40.768008, -73.968095</td>\n",
       "      <td>40.783762, -73.956655</td>\n",
       "    </tr>\n",
       "  </tbody>\n",
       "</table>\n",
       "</div>"
      ],
      "text/plain": [
       "   amount  no_of_passenger                 pickup                dropoff\n",
       "0     4.5              1.0  40.721319, -73.844311   40.712278, -73.84161\n",
       "1    16.9              1.0  40.711303, -74.016048  40.782004, -73.979268\n",
       "2     5.7              2.0   40.76127, -73.982738  40.750562, -73.991242\n",
       "3     7.7              1.0   40.733143, -73.98713  40.758092, -73.991567\n",
       "4     5.3              1.0  40.768008, -73.968095  40.783762, -73.956655"
      ]
     },
     "execution_count": 219,
     "metadata": {},
     "output_type": "execute_result"
    }
   ],
   "source": [
    "df.head()"
   ]
  },
  {
   "cell_type": "code",
   "execution_count": 220,
   "id": "ce93a1d9",
   "metadata": {},
   "outputs": [],
   "source": [
    "pickup = []\n",
    "dropoff = []\n",
    "distance = []\n",
    "\n",
    "for co1 in df[\"pickup\"]:\n",
    "    pickup.append(co1)\n",
    "for co2 in df[\"dropoff\"]:\n",
    "    dropoff.append(co2)\n",
    "    \n",
    "for i in range(len(pickup)):\n",
    "    dis=geodesic(pickup[i],dropoff[i]).miles\n",
    "    distance.append(dis)\n",
    "    "
   ]
  },
  {
   "cell_type": "code",
   "execution_count": 221,
   "id": "04527665",
   "metadata": {},
   "outputs": [],
   "source": [
    "df[\"distance\"]=distance"
   ]
  },
  {
   "cell_type": "code",
   "execution_count": 222,
   "id": "55b7d3b3",
   "metadata": {},
   "outputs": [
    {
     "name": "stdout",
     "output_type": "stream",
     "text": [
      "<class 'pandas.core.frame.DataFrame'>\n",
      "Int64Index: 48837 entries, 0 to 49999\n",
      "Data columns (total 5 columns):\n",
      " #   Column           Non-Null Count  Dtype  \n",
      "---  ------           --------------  -----  \n",
      " 0   amount           48837 non-null  float64\n",
      " 1   no_of_passenger  48837 non-null  float64\n",
      " 2   pickup           48837 non-null  object \n",
      " 3   dropoff          48837 non-null  object \n",
      " 4   distance         48837 non-null  float64\n",
      "dtypes: float64(3), object(2)\n",
      "memory usage: 2.2+ MB\n"
     ]
    }
   ],
   "source": [
    "df.info()"
   ]
  },
  {
   "cell_type": "code",
   "execution_count": 223,
   "id": "dc8bf919",
   "metadata": {},
   "outputs": [
    {
     "data": {
      "text/html": [
       "<div>\n",
       "<style scoped>\n",
       "    .dataframe tbody tr th:only-of-type {\n",
       "        vertical-align: middle;\n",
       "    }\n",
       "\n",
       "    .dataframe tbody tr th {\n",
       "        vertical-align: top;\n",
       "    }\n",
       "\n",
       "    .dataframe thead th {\n",
       "        text-align: right;\n",
       "    }\n",
       "</style>\n",
       "<table border=\"1\" class=\"dataframe\">\n",
       "  <thead>\n",
       "    <tr style=\"text-align: right;\">\n",
       "      <th></th>\n",
       "      <th>amount</th>\n",
       "      <th>no_of_passenger</th>\n",
       "      <th>pickup</th>\n",
       "      <th>dropoff</th>\n",
       "      <th>distance</th>\n",
       "    </tr>\n",
       "  </thead>\n",
       "  <tbody>\n",
       "    <tr>\n",
       "      <th>0</th>\n",
       "      <td>4.5</td>\n",
       "      <td>1.0</td>\n",
       "      <td>40.721319, -73.844311</td>\n",
       "      <td>40.712278, -73.84161</td>\n",
       "      <td>0.639764</td>\n",
       "    </tr>\n",
       "    <tr>\n",
       "      <th>1</th>\n",
       "      <td>16.9</td>\n",
       "      <td>1.0</td>\n",
       "      <td>40.711303, -74.016048</td>\n",
       "      <td>40.782004, -73.979268</td>\n",
       "      <td>5.246511</td>\n",
       "    </tr>\n",
       "    <tr>\n",
       "      <th>2</th>\n",
       "      <td>5.7</td>\n",
       "      <td>2.0</td>\n",
       "      <td>40.76127, -73.982738</td>\n",
       "      <td>40.750562, -73.991242</td>\n",
       "      <td>0.863167</td>\n",
       "    </tr>\n",
       "    <tr>\n",
       "      <th>3</th>\n",
       "      <td>7.7</td>\n",
       "      <td>1.0</td>\n",
       "      <td>40.733143, -73.98713</td>\n",
       "      <td>40.758092, -73.991567</td>\n",
       "      <td>1.737223</td>\n",
       "    </tr>\n",
       "    <tr>\n",
       "      <th>4</th>\n",
       "      <td>5.3</td>\n",
       "      <td>1.0</td>\n",
       "      <td>40.768008, -73.968095</td>\n",
       "      <td>40.783762, -73.956655</td>\n",
       "      <td>1.241710</td>\n",
       "    </tr>\n",
       "  </tbody>\n",
       "</table>\n",
       "</div>"
      ],
      "text/plain": [
       "   amount  no_of_passenger                 pickup                dropoff  \\\n",
       "0     4.5              1.0  40.721319, -73.844311   40.712278, -73.84161   \n",
       "1    16.9              1.0  40.711303, -74.016048  40.782004, -73.979268   \n",
       "2     5.7              2.0   40.76127, -73.982738  40.750562, -73.991242   \n",
       "3     7.7              1.0   40.733143, -73.98713  40.758092, -73.991567   \n",
       "4     5.3              1.0  40.768008, -73.968095  40.783762, -73.956655   \n",
       "\n",
       "   distance  \n",
       "0  0.639764  \n",
       "1  5.246511  \n",
       "2  0.863167  \n",
       "3  1.737223  \n",
       "4  1.241710  "
      ]
     },
     "execution_count": 223,
     "metadata": {},
     "output_type": "execute_result"
    }
   ],
   "source": [
    "df.head()"
   ]
  },
  {
   "cell_type": "code",
   "execution_count": 224,
   "id": "462d04e6",
   "metadata": {},
   "outputs": [],
   "source": [
    "df.drop(columns=[\"pickup\",\"dropoff\"],inplace=True)"
   ]
  },
  {
   "cell_type": "code",
   "execution_count": 225,
   "id": "7d1467c2",
   "metadata": {},
   "outputs": [
    {
     "name": "stdout",
     "output_type": "stream",
     "text": [
      "<class 'pandas.core.frame.DataFrame'>\n",
      "Int64Index: 48837 entries, 0 to 49999\n",
      "Data columns (total 3 columns):\n",
      " #   Column           Non-Null Count  Dtype  \n",
      "---  ------           --------------  -----  \n",
      " 0   amount           48837 non-null  float64\n",
      " 1   no_of_passenger  48837 non-null  float64\n",
      " 2   distance         48837 non-null  float64\n",
      "dtypes: float64(3)\n",
      "memory usage: 1.5 MB\n"
     ]
    }
   ],
   "source": [
    "df.info()"
   ]
  },
  {
   "cell_type": "code",
   "execution_count": 226,
   "id": "1a8183d8",
   "metadata": {},
   "outputs": [],
   "source": [
    "correlation_mat = df.corr()"
   ]
  },
  {
   "cell_type": "code",
   "execution_count": 227,
   "id": "401b9a2e",
   "metadata": {},
   "outputs": [
    {
     "data": {
      "text/plain": [
       "<AxesSubplot:>"
      ]
     },
     "execution_count": 227,
     "metadata": {},
     "output_type": "execute_result"
    },
    {
     "data": {
      "image/png": "[encoded data removed]",
      "text/plain": [
       "<Figure size 432x288 with 2 Axes>"
      ]
     },
     "metadata": {
      "needs_background": "light"
     },
     "output_type": "display_data"
    }
   ],
   "source": [
    "sns.heatmap(correlation_mat,annot=True,linewidths=.5,cmap=\"YlGnBu\")"
   ]
  },
  {
   "cell_type": "code",
   "execution_count": 228,
   "id": "c385638c",
   "metadata": {},
   "outputs": [
    {
     "data": {
      "image/png": "[encoded data removed]",
      "text/plain": [
       "<Figure size 540x540 with 12 Axes>"
      ]
     },
     "metadata": {
      "needs_background": "light"
     },
     "output_type": "display_data"
    }
   ],
   "source": [
    "sns.pairplot(df)\n",
    "plt.show()"
   ]
  },
  {
   "cell_type": "code",
   "execution_count": 229,
   "id": "bf9fd79e",
   "metadata": {},
   "outputs": [
    {
     "data": {
      "text/html": [
       "<div>\n",
       "<style scoped>\n",
       "    .dataframe tbody tr th:only-of-type {\n",
       "        vertical-align: middle;\n",
       "    }\n",
       "\n",
       "    .dataframe tbody tr th {\n",
       "        vertical-align: top;\n",
       "    }\n",
       "\n",
       "    .dataframe thead th {\n",
       "        text-align: right;\n",
       "    }\n",
       "</style>\n",
       "<table border=\"1\" class=\"dataframe\">\n",
       "  <thead>\n",
       "    <tr style=\"text-align: right;\">\n",
       "      <th></th>\n",
       "      <th>amount</th>\n",
       "      <th>no_of_passenger</th>\n",
       "      <th>distance</th>\n",
       "    </tr>\n",
       "  </thead>\n",
       "  <tbody>\n",
       "    <tr>\n",
       "      <th>0</th>\n",
       "      <td>4.5</td>\n",
       "      <td>1.0</td>\n",
       "      <td>0.639764</td>\n",
       "    </tr>\n",
       "    <tr>\n",
       "      <th>1</th>\n",
       "      <td>16.9</td>\n",
       "      <td>1.0</td>\n",
       "      <td>5.246511</td>\n",
       "    </tr>\n",
       "    <tr>\n",
       "      <th>2</th>\n",
       "      <td>5.7</td>\n",
       "      <td>2.0</td>\n",
       "      <td>0.863167</td>\n",
       "    </tr>\n",
       "    <tr>\n",
       "      <th>3</th>\n",
       "      <td>7.7</td>\n",
       "      <td>1.0</td>\n",
       "      <td>1.737223</td>\n",
       "    </tr>\n",
       "    <tr>\n",
       "      <th>4</th>\n",
       "      <td>5.3</td>\n",
       "      <td>1.0</td>\n",
       "      <td>1.241710</td>\n",
       "    </tr>\n",
       "    <tr>\n",
       "      <th>...</th>\n",
       "      <td>...</td>\n",
       "      <td>...</td>\n",
       "      <td>...</td>\n",
       "    </tr>\n",
       "    <tr>\n",
       "      <th>49995</th>\n",
       "      <td>15.0</td>\n",
       "      <td>1.0</td>\n",
       "      <td>3.066758</td>\n",
       "    </tr>\n",
       "    <tr>\n",
       "      <th>49996</th>\n",
       "      <td>7.5</td>\n",
       "      <td>1.0</td>\n",
       "      <td>0.542938</td>\n",
       "    </tr>\n",
       "    <tr>\n",
       "      <th>49997</th>\n",
       "      <td>6.9</td>\n",
       "      <td>1.0</td>\n",
       "      <td>1.404655</td>\n",
       "    </tr>\n",
       "    <tr>\n",
       "      <th>49998</th>\n",
       "      <td>4.5</td>\n",
       "      <td>2.0</td>\n",
       "      <td>0.414219</td>\n",
       "    </tr>\n",
       "    <tr>\n",
       "      <th>49999</th>\n",
       "      <td>10.9</td>\n",
       "      <td>1.0</td>\n",
       "      <td>0.000000</td>\n",
       "    </tr>\n",
       "  </tbody>\n",
       "</table>\n",
       "<p>48837 rows × 3 columns</p>\n",
       "</div>"
      ],
      "text/plain": [
       "       amount  no_of_passenger  distance\n",
       "0         4.5              1.0  0.639764\n",
       "1        16.9              1.0  5.246511\n",
       "2         5.7              2.0  0.863167\n",
       "3         7.7              1.0  1.737223\n",
       "4         5.3              1.0  1.241710\n",
       "...       ...              ...       ...\n",
       "49995    15.0              1.0  3.066758\n",
       "49996     7.5              1.0  0.542938\n",
       "49997     6.9              1.0  1.404655\n",
       "49998     4.5              2.0  0.414219\n",
       "49999    10.9              1.0  0.000000\n",
       "\n",
       "[48837 rows x 3 columns]"
      ]
     },
     "execution_count": 229,
     "metadata": {},
     "output_type": "execute_result"
    }
   ],
   "source": [
    "df"
   ]
  },
  {
   "cell_type": "code",
   "execution_count": 230,
   "id": "a18b131e",
   "metadata": {},
   "outputs": [
    {
     "data": {
      "text/html": [
       "<div>\n",
       "<style scoped>\n",
       "    .dataframe tbody tr th:only-of-type {\n",
       "        vertical-align: middle;\n",
       "    }\n",
       "\n",
       "    .dataframe tbody tr th {\n",
       "        vertical-align: top;\n",
       "    }\n",
       "\n",
       "    .dataframe thead th {\n",
       "        text-align: right;\n",
       "    }\n",
       "</style>\n",
       "<table border=\"1\" class=\"dataframe\">\n",
       "  <thead>\n",
       "    <tr style=\"text-align: right;\">\n",
       "      <th></th>\n",
       "      <th>amount</th>\n",
       "      <th>no_of_passenger</th>\n",
       "      <th>distance</th>\n",
       "    </tr>\n",
       "  </thead>\n",
       "  <tbody>\n",
       "    <tr>\n",
       "      <th>count</th>\n",
       "      <td>48837.000000</td>\n",
       "      <td>48837.000000</td>\n",
       "      <td>48837.000000</td>\n",
       "    </tr>\n",
       "    <tr>\n",
       "      <th>mean</th>\n",
       "      <td>11.367257</td>\n",
       "      <td>1.674796</td>\n",
       "      <td>2.579408</td>\n",
       "    </tr>\n",
       "    <tr>\n",
       "      <th>std</th>\n",
       "      <td>9.665188</td>\n",
       "      <td>1.288865</td>\n",
       "      <td>39.695012</td>\n",
       "    </tr>\n",
       "    <tr>\n",
       "      <th>min</th>\n",
       "      <td>-5.000000</td>\n",
       "      <td>1.000000</td>\n",
       "      <td>0.000000</td>\n",
       "    </tr>\n",
       "    <tr>\n",
       "      <th>25%</th>\n",
       "      <td>6.000000</td>\n",
       "      <td>1.000000</td>\n",
       "      <td>0.784897</td>\n",
       "    </tr>\n",
       "    <tr>\n",
       "      <th>50%</th>\n",
       "      <td>8.500000</td>\n",
       "      <td>1.000000</td>\n",
       "      <td>1.342410</td>\n",
       "    </tr>\n",
       "    <tr>\n",
       "      <th>75%</th>\n",
       "      <td>12.500000</td>\n",
       "      <td>2.000000</td>\n",
       "      <td>2.449735</td>\n",
       "    </tr>\n",
       "    <tr>\n",
       "      <th>max</th>\n",
       "      <td>200.000000</td>\n",
       "      <td>6.000000</td>\n",
       "      <td>3752.574645</td>\n",
       "    </tr>\n",
       "  </tbody>\n",
       "</table>\n",
       "</div>"
      ],
      "text/plain": [
       "             amount  no_of_passenger      distance\n",
       "count  48837.000000     48837.000000  48837.000000\n",
       "mean      11.367257         1.674796      2.579408\n",
       "std        9.665188         1.288865     39.695012\n",
       "min       -5.000000         1.000000      0.000000\n",
       "25%        6.000000         1.000000      0.784897\n",
       "50%        8.500000         1.000000      1.342410\n",
       "75%       12.500000         2.000000      2.449735\n",
       "max      200.000000         6.000000   3752.574645"
      ]
     },
     "execution_count": 230,
     "metadata": {},
     "output_type": "execute_result"
    }
   ],
   "source": [
    "df.describe()"
   ]
  },
  {
   "cell_type": "code",
   "execution_count": 231,
   "id": "c116d74f",
   "metadata": {},
   "outputs": [],
   "source": [
    "X = df.drop(columns=[\"amount\"])\n",
    "Y = df[\"amount\"]\n",
    "X_train , X_test , y_train , y_test = train_test_split(X,Y,test_size=0.25,random_state=0)"
   ]
  },
  {
   "cell_type": "code",
   "execution_count": 232,
   "id": "43e2877b",
   "metadata": {},
   "outputs": [],
   "source": [
    "StSc = StandardScaler()\n",
    "X_train  = StSc.fit_transform(X_train)\n",
    "X_test  = StSc.fit_transform(X_test)"
   ]
  },
  {
   "cell_type": "code",
   "execution_count": 233,
   "id": "607afdf7",
   "metadata": {},
   "outputs": [],
   "source": [
    "from sklearn.linear_model import LinearRegression\n",
    "reg = LinearRegression().fit(X_train, y_train)\n",
    "y_pred = reg.predict(X_test)"
   ]
  },
  {
   "cell_type": "code",
   "execution_count": 234,
   "id": "16a7ba14",
   "metadata": {},
   "outputs": [
    {
     "data": {
      "text/plain": [
       "5.929784605611654"
      ]
     },
     "execution_count": 234,
     "metadata": {},
     "output_type": "execute_result"
    }
   ],
   "source": [
    "from sklearn.metrics import mean_absolute_error as mae\n",
    "mae(y_test,y_pred)"
   ]
  },
  {
   "cell_type": "code",
   "execution_count": 235,
   "id": "aadc9828",
   "metadata": {},
   "outputs": [
    {
     "data": {
      "text/plain": [
       "89.39537075868253"
      ]
     },
     "execution_count": 235,
     "metadata": {},
     "output_type": "execute_result"
    }
   ],
   "source": [
    "from sklearn.metrics import mean_squared_error as mse\n",
    "mse(y_test, y_pred)"
   ]
  },
  {
   "cell_type": "code",
   "execution_count": 236,
   "id": "c06e2402",
   "metadata": {},
   "outputs": [
    {
     "data": {
      "text/plain": [
       "0.7427619912279099"
      ]
     },
     "execution_count": 236,
     "metadata": {},
     "output_type": "execute_result"
    }
   ],
   "source": [
    "from sklearn.metrics import mean_absolute_percentage_error as mape\n",
    "mape(y_test, y_pred)"
   ]
  }
 ],
 "metadata": {
  "kernelspec": {
   "display_name": "Python 3 (ipykernel)",
   "language": "python",
   "name": "python3"
  },
  "language_info": {
   "codemirror_mode": {
    "name": "ipython",
    "version": 3
   },
   "file_extension": ".py",
   "mimetype": "text/x-python",
   "name": "python",
   "nbconvert_exporter": "python",
   "pygments_lexer": "ipython3",
   "version": "3.9.7"
  }
 },
 "nbformat": 4,
 "nbformat_minor": 5
}
